{
  "nbformat": 4,
  "nbformat_minor": 0,
  "metadata": {
    "colab": {
      "name": "doing_linear_regression.ipynb",
      "version": "0.3.2",
      "provenance": [],
      "collapsed_sections": []
    },
    "kernelspec": {
      "name": "python3",
      "display_name": "Python 3"
    }
  },
  "cells": [
    {
      "cell_type": "markdown",
      "metadata": {
        "id": "K4i5n883p_Xf",
        "colab_type": "text"
      },
      "source": [
        "_Lambda School Data Science — Linear Models_\n",
        "\n",
        "# Doing Linear Regression\n",
        "\n",
        "### Objectives\n",
        "- arrange data into X features matrix and y target vector\n",
        "- use scikit-learn for linear regression\n",
        "- use regression metric: MAE\n",
        "- do one-hot encoding\n",
        "- scale features\n",
        "\n",
        "### Contents\n",
        "1. Libraries\n",
        "2. Pre-read\n",
        "3. Process\n",
        "4. Project"
      ]
    },
    {
      "cell_type": "markdown",
      "metadata": {
        "id": "JHJ8JQjGTYro",
        "colab_type": "text"
      },
      "source": [
        "# Libraries"
      ]
    },
    {
      "cell_type": "markdown",
      "metadata": {
        "id": "LWZlqRnfl4sK",
        "colab_type": "text"
      },
      "source": [
        "### Install [category_encoders](http://contrib.scikit-learn.org/categorical-encoding/) (version 2+)\n",
        "- Local Anaconda: `conda install -c conda-forge category_encoders`\n",
        "- Google Colab: `pip install category_encoders`"
      ]
    },
    {
      "cell_type": "code",
      "metadata": {
        "id": "YS2w89kdl_2g",
        "colab_type": "code",
        "colab": {}
      },
      "source": [
        "# !pip install category_encoders"
      ],
      "execution_count": 0,
      "outputs": []
    },
    {
      "cell_type": "markdown",
      "metadata": {
        "id": "g74Pk4y0mA5b",
        "colab_type": "text"
      },
      "source": [
        "### Install [pandas-profiling](https://github.com/pandas-profiling/pandas-profiling) (version 2+)\n",
        "- `pip install -U pandas-profiling`"
      ]
    },
    {
      "cell_type": "code",
      "metadata": {
        "id": "5qg1pSAHl9Fg",
        "colab_type": "code",
        "colab": {}
      },
      "source": [
        "# !pip install -U pandas-profiling"
      ],
      "execution_count": 0,
      "outputs": []
    },
    {
      "cell_type": "markdown",
      "metadata": {
        "id": "i6O0KEmmQ7OM",
        "colab_type": "text"
      },
      "source": [
        "# Pre-reads\n",
        "\n",
        "#### [Jake VanderPlas, Python Data Science Handbook, Chapter 5.2, Introducing Scikit-Learn](https://jakevdp.github.io/PythonDataScienceHandbook/05.02-introducing-scikit-learn.html). \n",
        "\n",
        "Read up through “Supervised learning example: Simple linear regression”. You can stop when you get to “Supervised learning example: Iris classification.”\n"
      ]
    },
    {
      "cell_type": "markdown",
      "metadata": {
        "id": "EZ7Oh030150T",
        "colab_type": "text"
      },
      "source": [
        "# Process\n",
        "\n",
        "#### Renee Teate, [Becoming a Data Scientist, PyData DC 2016 Talk](https://www.becomingadatascientist.com/2016/10/11/pydata-dc-2016-talk/)\n",
        "\n",
        "![](https://image.slidesharecdn.com/becomingadatascientistadvice-pydatadc-shared-161012184823/95/becoming-a-data-scientist-advice-from-my-podcast-guests-55-638.jpg?cb=1476298295)\n"
      ]
    },
    {
      "cell_type": "markdown",
      "metadata": {
        "id": "IEZu7RSd0O3w",
        "colab_type": "text"
      },
      "source": [
        "## Business Question --> Data Question --> Data Answer (for Supervised Learning)\n",
        "\n",
        "#### Francois Chollet, [Deep Learning with Python](https://github.com/fchollet/deep-learning-with-python-notebooks/blob/master/README.md), Chapter 4: Fundamentals of machine learning, \"A universal workflow of machine learning\"\n",
        " \n",
        "> **1. Define the problem at hand and the data on which you’ll train.** Collect this data, or annotate it with labels if need be.\n",
        "\n",
        "> **2. Choose how you’ll measure success on your problem.** Which metrics will you monitor on your validation data?\n",
        "\n",
        "> **3. Determine your evaluation protocol:** hold-out validation? K-fold validation? Which portion of the data should you use for validation?\n",
        "\n",
        "> **4. Develop a first model that does better than a basic baseline:** a model with statistical power.\n",
        "\n",
        "> **5. Develop a model that overfits.** The universal tension in machine learning is between optimization and generalization; the ideal model is one that stands right at the border between underfitting and overfitting; between undercapacity and overcapacity. To figure out where this border lies, first you must cross it.\n",
        "\n",
        "> **6. Regularize your model and tune its hyperparameters, based on performance on the validation data.** Repeatedly modify your model, train it, evaluate on your validation data (not the test data, at this point), modify it again, and repeat, until the model is as good as it can get. \n",
        "\n",
        "> **Iterate on feature engineering: add new features, or remove features that don’t seem to be informative.** Once you’ve developed a satisfactory model configuration, you can train your final production model on all the available data (training and validation) and evaluate it one last time on the test set.\n"
      ]
    },
    {
      "cell_type": "markdown",
      "metadata": {
        "id": "kJhnVFGQRXS0",
        "colab_type": "text"
      },
      "source": [
        "## Define the data on which you'll train / Add new features or remove features\n",
        "\n",
        "#### Jake VanderPlas, [Python Data Science Handbook, Chapter 5.2, Introducing Scikit-Learn](https://jakevdp.github.io/PythonDataScienceHandbook/05.02-introducing-scikit-learn.html), Data Representation in Scikit-Learn\n",
        "\n",
        "> The best way to think about data within Scikit-Learn is in terms of tables of data.\n",
        "\n",
        "![](https://jakevdp.github.io/PythonDataScienceHandbook/figures/05.02-samples-features.png)\n",
        "\n",
        "> The samples (i.e., rows) always refer to the individual objects described by the dataset. For example, the sample might be a flower, a person, a document, an image, a sound file, a video, an astronomical object, or anything else you can describe with a set of quantitative measurements.\n",
        "\n",
        "> The features (i.e., columns) always refer to the distinct observations that describe each sample in a quantitative manner. \n",
        "\n",
        "> The information can be thought of as a two-dimensional numerical array or matrix, which we will call the _features matrix._ By convention, this features matrix is often stored in a variable named `X`. The features matrix is assumed to be two-dimensional, with shape `[n_samples, n_features]`, and is most often contained in a NumPy array or a Pandas `DataFrame`, though some Scikit-Learn models also accept SciPy sparse matrices.\n",
        "\n",
        "> In addition to the feature matrix `X`, we also generally work with a label or target array, which by convention we will usually call `y`. The target array is usually one dimensional, with length `n_samples`, and is generally contained in a NumPy array or Pandas `Series`. \n",
        "\n",
        "> Often one point of confusion is how the target array differs from the other features columns. The distinguishing feature of the target array is that it is usually the quantity we want to _predict from the data:_ in statistical terms, it is the dependent variable.\n",
        "\n",
        "#### Google Developers, [Machine Learning Glossary](https://developers.google.com/machine-learning/glossary/#l) \n",
        "\n",
        "> Each example in a labeled dataset consists of one or more features and a label. \n",
        "\n",
        "> For instance, in a housing dataset, the features might include the number of bedrooms, the number of bathrooms, and the age of the house, while the label might be the house's price. \n",
        "\n",
        "> In a spam detection dataset, the features might include the subject line, the sender, and the email message itself, while the label would probably be either \"spam\" or \"not spam.\"\n",
        "\n",
        "#### Wikipedia, [Feature Engineering](https://en.wikipedia.org/wiki/Feature_engineering)\n",
        "\n",
        "> \"Some machine learning projects succeed and some fail. What makes the difference? Easily the most important factor is the features used.\" — Pedro Domingos, [\"A Few Useful Things to Know about Machine Learning\"](https://homes.cs.washington.edu/~pedrod/papers/cacm12.pdf)\n",
        "\n",
        "> \"Coming up with features is difficult, time-consuming, requires expert knowledge. 'Applied machine learning' is basically feature engineering.\" — Andrew Ng, [Machine Learning and AI via Brain simulations](https://forum.stanford.edu/events/2011/2011slides/plenary/2011plenaryNg.pdf) \n",
        "\n",
        "> Feature engineering is the process of using domain knowledge of the data to create features that make machine learning algorithms work. "
      ]
    },
    {
      "cell_type": "markdown",
      "metadata": {
        "id": "lSZBdwNg1Vvj",
        "colab_type": "text"
      },
      "source": [
        "## Determine evaluation protocol\n",
        "\n",
        "#### Sebastian Raschka, [Model Evaluation]( https://sebastianraschka.com/blog/2018/model-evaluation-selection-part4.html)\n",
        "> <img src=\"https://sebastianraschka.com/images/blog/2018/model-evaluation-selection-part4/model-eval-conclusions.jpg\" width=\"600\">"
      ]
    },
    {
      "cell_type": "markdown",
      "metadata": {
        "id": "HFAHa5dD3BQt",
        "colab_type": "text"
      },
      "source": [
        "## Develop a first model that does better than a basic baseline\n",
        "\n",
        "### Why begin with baselines?\n",
        "\n",
        "[My mentor](https://www.linkedin.com/in/jason-sanchez-62093847/) [taught me](https://youtu.be/0GrciaGYzV0?t=40s):\n",
        "\n",
        ">***Your first goal should always, always, always be getting a generalized prediction as fast as possible.*** You shouldn't spend a lot of time trying to tune your model, trying to add features, trying to engineer features, until you've actually gotten one prediction, at least. \n",
        "\n",
        "> The reason why that's a really good thing is because then ***you'll set a benchmark*** for yourself, and you'll be able to directly see how much effort you put in translates to a better prediction. \n",
        "\n",
        "> What you'll find by working on many models: some effort you put in, actually has very little effect on how well your final model does at predicting new observations. Whereas some very easy changes actually have a lot of effect. And so you get better at allocating your time more effectively.\n",
        "\n",
        "My mentor's advice is echoed and elaborated in several sources:\n",
        "\n",
        "[Always start with a stupid model, no exceptions](https://blog.insightdatascience.com/always-start-with-a-stupid-model-no-exceptions-3a22314b9aaa)\n",
        "\n",
        "> Why start with a baseline? A baseline will take you less than 1/10th of the time, and could provide up to 90% of the results. A baseline puts a more complex model into context. Baselines are easy to deploy.\n",
        "\n",
        "[Measure Once, Cut Twice: Moving Towards Iteration in Data Science](https://blog.datarobot.com/measure-once-cut-twice-moving-towards-iteration-in-data-science)\n",
        "\n",
        "> The iterative approach in data science starts with emphasizing the importance of getting to a first model quickly, rather than starting with the variables and features. Once the first model is built, the work then steadily focuses on continual improvement.\n",
        "\n",
        "[*Data Science for Business*](https://books.google.com/books?id=4ZctAAAAQBAJ&pg=PT276), Chapter 7.3: Evaluation, Baseline Performance, and Implications for Investments in Data\n",
        "\n",
        "> *Consider carefully what would be a reasonable baseline against which to compare model performance.* This is important for the data science team in order to understand whether they indeed are improving performance, and is equally important for demonstrating to stakeholders that mining the data has added value.\n",
        "\n",
        "### What does baseline mean?\n",
        "\n",
        "Baseline is an overloaded term, as you can see in the links above. Baseline has multiple meanings:\n",
        "\n",
        "#### The score you'd get by guessing a single value\n",
        "\n",
        "> A baseline for classification can be the most common class in the training dataset.\n",
        "\n",
        "> A baseline for regression can be the mean of the training labels. —[Will Koehrsen](https://twitter.com/koehrsen_will/status/1088863527778111488)\n",
        "\n",
        "#### The score you'd get by guessing in a more granular way\n",
        "\n",
        "> A baseline for time-series regressions can be the value from the previous timestep.\n",
        "\n",
        "#### Fast, first models that beat guessing\n",
        "\n",
        "What my mentor was talking about.\n",
        "\n",
        "#### Complete, tuned \"simpler\" model\n",
        "\n",
        "Can be simpler mathematically and computationally. For example, Logistic Regression versus Deep Learning.\n",
        "\n",
        "Or can be simpler for the data scientist, with less work. For example, a model with less feature engineering versus a model with more feature engineering.\n",
        "\n",
        "#### Minimum performance that \"matters\"\n",
        "\n",
        "To go to production and get business value.\n",
        "\n",
        "#### Human-level performance \n",
        "\n",
        "Your goal may to be match, or nearly match, human performance, but with better speed, cost, or consistency.\n",
        "\n",
        "Or your goal may to be exceed human performance."
      ]
    },
    {
      "cell_type": "markdown",
      "metadata": {
        "id": "aOW2hsiDBIk9",
        "colab_type": "text"
      },
      "source": [
        "## Use scikit-learn to fit a model\n",
        "\n",
        "#### Jake VanderPlas, [Python Data Science Handbook, Chapter 5.2, Introducing Scikit-Learn](https://jakevdp.github.io/PythonDataScienceHandbook/05.02-introducing-scikit-learn.html), Scikit-Learn's Estimator API\n",
        "\n",
        "> Most commonly, the steps in using the Scikit-Learn estimator API are as follows (we will step through a handful of detailed examples in the sections that follow).\n",
        "\n",
        "> 1. Choose a class of model by importing the appropriate estimator class from Scikit-Learn. \n",
        "> 2. Choose model hyperparameters by instantiating this class with desired values. \n",
        "> 3. Arrange data into a features matrix and target vector following the discussion above.\n",
        "> 4. Fit the model to your data by calling the `fit()` method of the model instance.\n",
        "> 5. Apply the Model to new data: For supervised learning, often we predict labels for unknown data using the `predict()` method."
      ]
    },
    {
      "cell_type": "markdown",
      "metadata": {
        "id": "T1hPspa5mkWT",
        "colab_type": "text"
      },
      "source": [
        "# Project: Predict NYC apartment rent 🏠💸\n",
        "\n",
        "You'll use a real-world data with rent prices for a subset of apartments in New York City!\n"
      ]
    },
    {
      "cell_type": "markdown",
      "metadata": {
        "id": "UbqeAzl9TK_y",
        "colab_type": "text"
      },
      "source": [
        "## Define the data on which you'll train\n",
        "\n",
        "- Get the data\n",
        "- What's the target?\n",
        "- Regression or classification?"
      ]
    },
    {
      "cell_type": "code",
      "metadata": {
        "id": "qEeVFTa0VWDE",
        "colab_type": "code",
        "colab": {}
      },
      "source": [
        "LOCAL = '../data/nyc/nyc-rent-2016.csv'\n",
        "WEB = 'https://raw.githubusercontent.com/LambdaSchool/DS-Unit-2-Linear-Models/master/data/nyc/nyc-rent-2016.csv'\n",
        "\n",
        "import pandas as pd\n",
        "df = pd.read_csv(WEB)\n",
        "assert df.shape == (48300, 34)"
      ],
      "execution_count": 0,
      "outputs": []
    },
    {
      "cell_type": "code",
      "metadata": {
        "id": "MGzhihMGfp1p",
        "colab_type": "code",
        "colab": {}
      },
      "source": [
        ""
      ],
      "execution_count": 0,
      "outputs": []
    },
    {
      "cell_type": "markdown",
      "metadata": {
        "id": "nnJ6ioiesWsT",
        "colab_type": "text"
      },
      "source": [
        "## DO TRAIN/TEST SPLIT\n",
        " \n",
        " For this project, we'll split based on time. \n",
        "\n",
        "- Use data from April & May 2016 to train.\n",
        "- Use data from June 2016 to test.\n"
      ]
    },
    {
      "cell_type": "code",
      "metadata": {
        "id": "FYLE4Dzwskn-",
        "colab_type": "code",
        "colab": {}
      },
      "source": [
        ""
      ],
      "execution_count": 0,
      "outputs": []
    },
    {
      "cell_type": "markdown",
      "metadata": {
        "id": "GMmPjCEWTXFn",
        "colab_type": "text"
      },
      "source": [
        "## Begin with baselines for regression"
      ]
    },
    {
      "cell_type": "code",
      "metadata": {
        "id": "Ap063j12tEWJ",
        "colab_type": "code",
        "colab": {}
      },
      "source": [
        ""
      ],
      "execution_count": 0,
      "outputs": []
    },
    {
      "cell_type": "markdown",
      "metadata": {
        "id": "i3hDX7yUTbix",
        "colab_type": "text"
      },
      "source": [
        "## Use scikit-learn for linear regression, with 1 feature\n",
        "\n",
        "\n"
      ]
    },
    {
      "cell_type": "markdown",
      "metadata": {
        "id": "HFWAop61CgCq",
        "colab_type": "text"
      },
      "source": [
        "Follow the process from Jake VanderPlas, [Python Data Science Handbook, Chapter 5.2, Introducing Scikit-Learn](https://jakevdp.github.io/PythonDataScienceHandbook/05.02-introducing-scikit-learn.html), Scikit-Learn's Estimator API\n",
        "\n",
        "### Choose a class of model by importing the appropriate estimator class from Scikit-Learn\n"
      ]
    },
    {
      "cell_type": "code",
      "metadata": {
        "id": "OMbOVWEDCfmO",
        "colab_type": "code",
        "colab": {}
      },
      "source": [
        ""
      ],
      "execution_count": 0,
      "outputs": []
    },
    {
      "cell_type": "markdown",
      "metadata": {
        "id": "vATSdu5oD5NQ",
        "colab_type": "text"
      },
      "source": [
        "### Choose model hyperparameters by instantiating this class with desired values\n",
        "\n",
        "Refer to scikit-learn documentation to see what model hyperparameters you can choose. For example: [sklearn.linear_model.LinearRegression](https://scikit-learn.org/stable/modules/generated/sklearn.linear_model.LinearRegression.html)"
      ]
    },
    {
      "cell_type": "code",
      "metadata": {
        "id": "CexmSzauEBnu",
        "colab_type": "code",
        "colab": {}
      },
      "source": [
        ""
      ],
      "execution_count": 0,
      "outputs": []
    },
    {
      "cell_type": "markdown",
      "metadata": {
        "id": "oEsa7jtHC0L5",
        "colab_type": "text"
      },
      "source": [
        "### Arrange data into X features matrix and y target vector"
      ]
    },
    {
      "cell_type": "code",
      "metadata": {
        "id": "euIG2-5P_sdZ",
        "colab_type": "code",
        "colab": {}
      },
      "source": [
        ""
      ],
      "execution_count": 0,
      "outputs": []
    },
    {
      "cell_type": "markdown",
      "metadata": {
        "id": "K8s3-WYWEKxN",
        "colab_type": "text"
      },
      "source": [
        "### Fit the model to your data by calling the `fit()` method of the model instance"
      ]
    },
    {
      "cell_type": "code",
      "metadata": {
        "id": "XTLnEzwUENb5",
        "colab_type": "code",
        "colab": {}
      },
      "source": [
        ""
      ],
      "execution_count": 0,
      "outputs": []
    },
    {
      "cell_type": "markdown",
      "metadata": {
        "id": "HynZZRL7ESvx",
        "colab_type": "text"
      },
      "source": [
        "### Apply the Model to new data: For supervised learning, often we predict labels for unknown data using the `predict()` method"
      ]
    },
    {
      "cell_type": "code",
      "metadata": {
        "id": "mo6h1SnMr9kP",
        "colab_type": "code",
        "colab": {}
      },
      "source": [
        ""
      ],
      "execution_count": 0,
      "outputs": []
    },
    {
      "cell_type": "markdown",
      "metadata": {
        "id": "6l-WbivHIwHh",
        "colab_type": "text"
      },
      "source": [
        "## Use regression metric: MAE"
      ]
    },
    {
      "cell_type": "code",
      "metadata": {
        "id": "r5G7hDzGG0B0",
        "colab_type": "code",
        "colab": {}
      },
      "source": [
        ""
      ],
      "execution_count": 0,
      "outputs": []
    },
    {
      "cell_type": "markdown",
      "metadata": {
        "id": "N_KGM3LOHyrW",
        "colab_type": "text"
      },
      "source": [
        "## Use scikit-learn for linear regression, with 2 features"
      ]
    },
    {
      "cell_type": "markdown",
      "metadata": {
        "id": "Z_79qOeAH2ZU",
        "colab_type": "text"
      },
      "source": [
        "Follow the process from Jake VanderPlas, [Python Data Science Handbook, Chapter 5.2, Introducing Scikit-Learn](https://jakevdp.github.io/PythonDataScienceHandbook/05.02-introducing-scikit-learn.html), Scikit-Learn's Estimator API\n",
        "\n",
        "### Choose a class of model by importing the appropriate estimator class from Scikit-Learn"
      ]
    },
    {
      "cell_type": "code",
      "metadata": {
        "id": "E26qduGiH2_y",
        "colab_type": "code",
        "colab": {}
      },
      "source": [
        ""
      ],
      "execution_count": 0,
      "outputs": []
    },
    {
      "cell_type": "markdown",
      "metadata": {
        "id": "--7julXYH3oC",
        "colab_type": "text"
      },
      "source": [
        "### Choose model hyperparameters by instantiating this class with desired values"
      ]
    },
    {
      "cell_type": "code",
      "metadata": {
        "id": "BkkoMxbsIXLR",
        "colab_type": "code",
        "colab": {}
      },
      "source": [
        ""
      ],
      "execution_count": 0,
      "outputs": []
    },
    {
      "cell_type": "markdown",
      "metadata": {
        "id": "pJNRFvK9IeWU",
        "colab_type": "text"
      },
      "source": [
        "### Arrange data into X features matrix and y target vector"
      ]
    },
    {
      "cell_type": "code",
      "metadata": {
        "id": "2290BJszIgrb",
        "colab_type": "code",
        "colab": {}
      },
      "source": [
        ""
      ],
      "execution_count": 0,
      "outputs": []
    },
    {
      "cell_type": "markdown",
      "metadata": {
        "id": "BOa5Uj4jIjDR",
        "colab_type": "text"
      },
      "source": [
        "### Fit the model to your data by calling the `fit()` method of the model instance"
      ]
    },
    {
      "cell_type": "code",
      "metadata": {
        "id": "VZAUSsY0IjWa",
        "colab_type": "code",
        "colab": {}
      },
      "source": [
        ""
      ],
      "execution_count": 0,
      "outputs": []
    },
    {
      "cell_type": "markdown",
      "metadata": {
        "id": "8GEyW2B3Imr2",
        "colab_type": "text"
      },
      "source": [
        "### Apply the Model to new data: For supervised learning, often we predict labels for unknown data using the `predict()` method"
      ]
    },
    {
      "cell_type": "code",
      "metadata": {
        "id": "3ubKZVRJInLV",
        "colab_type": "code",
        "colab": {}
      },
      "source": [
        ""
      ],
      "execution_count": 0,
      "outputs": []
    },
    {
      "cell_type": "markdown",
      "metadata": {
        "id": "MDbG8jreI8Ip",
        "colab_type": "text"
      },
      "source": [
        "## Use regression metric: MAE"
      ]
    },
    {
      "cell_type": "code",
      "metadata": {
        "id": "xCs--47RI-He",
        "colab_type": "code",
        "colab": {}
      },
      "source": [
        ""
      ],
      "execution_count": 0,
      "outputs": []
    },
    {
      "cell_type": "markdown",
      "metadata": {
        "id": "BM-KUzX8RqsS",
        "colab_type": "text"
      },
      "source": [
        "## Do one-hot encoding of categorical features"
      ]
    },
    {
      "cell_type": "markdown",
      "metadata": {
        "id": "VqeBG7OoR72b",
        "colab_type": "text"
      },
      "source": [
        "### Which features are non-numeric?"
      ]
    },
    {
      "cell_type": "code",
      "metadata": {
        "id": "9ic36yUPRp2l",
        "colab_type": "code",
        "colab": {}
      },
      "source": [
        ""
      ],
      "execution_count": 0,
      "outputs": []
    },
    {
      "cell_type": "markdown",
      "metadata": {
        "id": "aN89gf1QSJG3",
        "colab_type": "text"
      },
      "source": [
        "### Check \"cardinality\" of non-numeric features\n",
        "\n",
        "[Cardinality](https://simple.wikipedia.org/wiki/Cardinality) means the number of unique values that a feature has:\n",
        "> In mathematics, the cardinality of a set means the number of its elements. For example, the set A = {2, 4, 6} contains 3 elements, and therefore A has a cardinality of 3. \n",
        "\n",
        "\"One-hot encoding\" adds a dimension for each unique value of each categorical feature. So, it may not be a good choice for \"high cardinality\" categoricals that have dozens, hundreds, or thousands of unique values. "
      ]
    },
    {
      "cell_type": "code",
      "metadata": {
        "id": "IkmTd6W3SNey",
        "colab_type": "code",
        "colab": {}
      },
      "source": [
        ""
      ],
      "execution_count": 0,
      "outputs": []
    },
    {
      "cell_type": "markdown",
      "metadata": {
        "id": "ApYuyrb8SaDp",
        "colab_type": "text"
      },
      "source": [
        "### Explore `interest_level` feature"
      ]
    },
    {
      "cell_type": "code",
      "metadata": {
        "id": "ipS3vkvcRwub",
        "colab_type": "code",
        "colab": {}
      },
      "source": [
        ""
      ],
      "execution_count": 0,
      "outputs": []
    },
    {
      "cell_type": "markdown",
      "metadata": {
        "id": "QGM1e6ThSp5K",
        "colab_type": "text"
      },
      "source": [
        "### Encode `interest_level` feature"
      ]
    },
    {
      "cell_type": "code",
      "metadata": {
        "id": "28TRmEX_SuzM",
        "colab_type": "code",
        "colab": {}
      },
      "source": [
        ""
      ],
      "execution_count": 0,
      "outputs": []
    },
    {
      "cell_type": "markdown",
      "metadata": {
        "id": "V15ZztGdccx5",
        "colab_type": "text"
      },
      "source": [
        "## Do one-hot encoding & Scale features, \n",
        "within a complete model fitting workflow.\n",
        "\n",
        "### Why and how to scale features before fitting linear models\n",
        "\n",
        "Scikit-Learn User Guide, [Preprocessing data](https://scikit-learn.org/stable/modules/preprocessing.html)\n",
        "> Standardization of datasets is a common requirement for many machine learning estimators implemented in scikit-learn; they might behave badly if the individual features do not more or less look like standard normally distributed data: Gaussian with zero mean and unit variance.\n",
        "\n",
        "> The `preprocessing` module further provides a utility class `StandardScaler` that implements the `Transformer` API to compute the mean and standard deviation on a training set. The scaler instance can then be used on new data to transform it the same way it did on the training set.\n",
        "\n",
        "### How to use encoders and scalers in scikit-learn\n",
        "- Use the **`fit_transform`** method on the **train** set\n",
        "- Use the **`transform`** method on the **validation** set"
      ]
    },
    {
      "cell_type": "code",
      "metadata": {
        "id": "Jf6r8sCDccDv",
        "colab_type": "code",
        "colab": {}
      },
      "source": [
        ""
      ],
      "execution_count": 0,
      "outputs": []
    },
    {
      "cell_type": "markdown",
      "metadata": {
        "id": "70KA2iiTao3Z",
        "colab_type": "text"
      },
      "source": [
        "# Assignment\n",
        "1. Start a clean notebook. Follow the processes taught today.\n",
        "2. Do train/test split. Use data from April & May 2016 to train. Use data from June 2016 to test.\n",
        "3. Begin with baseline for regression.\n",
        "4. Select two or more features. \n",
        "5. Do one-hot encoding. (Remember it may not work with high cardinality categoricals.)\n",
        "4. Use scikit-learn to fit a Linear Regression model on the train data.\n",
        "5. Apply the model to predict rent prices for the test data.\n",
        "6. Get the mean absolute error for the test data.\n",
        "7. Get the model's coefficients and intercept.\n",
        "8. Commit your notebook to your fork of the GitHub repo.\n",
        "\n",
        "_What's the best test MAE you can get? Share your score and features used with your cohort on Slack!_\n",
        "\n",
        "### Stretch Goals\n",
        "- Try at least 3 different feature combinations.\n",
        "- Get regression metrics RMSE, MAE, and $R^2$, for both the train and test data.\n",
        "- [Engineer new features!](https://en.wikipedia.org/wiki/Feature_engineering)\n",
        "\n",
        "> \"Some machine learning projects succeed and some fail. What makes the difference? Easily the most important factor is the features used.\" — Pedro Domingos, [\"A Few Useful Things to Know about Machine Learning\"](https://homes.cs.washington.edu/~pedrod/papers/cacm12.pdf)\n",
        "\n",
        "> \"Coming up with features is difficult, time-consuming, requires expert knowledge. 'Applied machine learning' is basically feature engineering.\" — Andrew Ng, [Machine Learning and AI via Brain simulations](https://forum.stanford.edu/events/2011/2011slides/plenary/2011plenaryNg.pdf) \n",
        "\n",
        "> Feature engineering is the process of using domain knowledge of the data to create features that make machine learning algorithms work. \n",
        "\n",
        "- Try different [scikit-learn scalers](https://scikit-learn.org/stable/modules/preprocessing.html)\n",
        "- Try [scikit-learn pipelines](https://scikit-learn.org/stable/modules/compose.html):\n",
        "\n",
        "> Pipeline can be used to chain multiple estimators into one. This is useful as there is often a fixed sequence of steps in processing the data, for example feature selection, normalization and classification. Pipeline serves multiple purposes here:\n",
        "\n",
        "> - **Convenience and encapsulation.** You only have to call fit and predict once on your data to fit a whole sequence of estimators.\n",
        "> - **Joint parameter selection.** You can grid search over parameters of all estimators in the pipeline at once.\n",
        "> - **Safety.** Pipelines help avoid leaking statistics from your test data into the trained model in cross-validation, by ensuring that the same samples are used to train the transformers and predictors."
      ]
    }
  ]
}